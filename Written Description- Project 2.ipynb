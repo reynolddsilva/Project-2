{
 "cells": [
  {
   "cell_type": "markdown",
   "id": "74065c3e",
   "metadata": {},
   "source": [
    "# Written Description"
   ]
  },
  {
   "cell_type": "markdown",
   "id": "e3bbd28d",
   "metadata": {},
   "source": [
    "### Abstract\n",
    "The film industry is one of the riskiest industries to venture into. In this project, my hypothetical client is Bestflix, which is looking to invest in commercial films (Bollywood and Hollywood). Traditional studios like Walt Disney produce mutiple movies on an annual basis and hope to turn in a profit on year-on-year basis. More than 62 percent of all the movies produced by major studios don't break even. My client is asking me to build a model that helps invest in a profitable venture. \n",
    "\n",
    "\n",
    "\n",
    "### Design\n",
    "The objective of the project is to evaluate the factors that make films successful (In terms of revenue) and for that I'll be using a Linear Regression Model to find the effects of ten factors on Domestic Revenues Life of a Thousand Movies. The ten factors are International collection, Rating, Genre, Worldwide collection, Domestic collection, First Weekend Collection, Gross Revenue, Budget, Release Date, the Length(Runtime) and Gross Domestic Revenue of the movies.\n"
   ]
  },
  {
   "cell_type": "markdown",
   "id": "3ac09438",
   "metadata": {},
   "source": [
    "### Tools\n",
    "Python- Numpy and Pandas for data manipulation,\n",
    "Scikit-learn and Statsmodels for data modeling, \n",
    "Matplotlib and Seaborn for plotting the data.\n"
   ]
  },
  {
   "attachments": {},
   "cell_type": "markdown",
   "id": "ee3b800b",
   "metadata": {},
   "source": [
    "### Data\n",
    "I've chosen a dataset of 1000 movies by webscraping the Box Office Mojo website. It contains 15 different categories, some of them are modified to suit the requirements of the model. I'll be using the Linear Regression, Lasso and Ridge regression to calculate the R-squared value and determine the model that best fits the data. "
   ]
  },
  {
   "attachments": {},
   "cell_type": "markdown",
   "id": "66d707c6",
   "metadata": {},
   "source": [
    "### Model\n",
    "My X-axis on the model consist of International Collection, Budget and Opening while y-axis is Gross Domestic Revenue.\n",
    "\n",
    "\n",
    "R-Squared after Cross Validation is as follows:\n",
    "Linear Regression : 0.47821\n",
    "Lasso: 0.47835\n",
    "Ridge: 0.47831\n",
    "in order to normalize the data, I've taken the log and recalculated the R-Squared:\n",
    "Linear Regression : 0.161657276725\n",
    "Lasso: 0.161670988034\n",
    "Ridge: 0.161657276726\n",
    "\n",
    "I've chosen Lasso as my model due to highest R-Sqaured and will use it for further tests. On my test data, I've got an R-Squared of 0.61276 and Mean Absolute error of 32.1341. So, it's safe to conclude that the chosen features have a decent correlation with the target(Gross Domestic Revenue). Also, due to high correlation of Opening Weekend and Gross Domestic Revenue, the former can give you rough estimate of the domestic box office collection of the movie.\n",
    "\n",
    "\n",
    "\n"
   ]
  },
  {
   "cell_type": "markdown",
   "id": "59c1e28c",
   "metadata": {},
   "source": [
    "### Communication\n",
    "I'll be uploading this project on my website: www.reynolddsilva.com and you reach me at reynoldrdsilva@gmail.com. I usually respond within 24 hours."
   ]
  },
  {
   "cell_type": "code",
   "execution_count": null,
   "id": "f797b763",
   "metadata": {},
   "outputs": [],
   "source": []
  }
 ],
 "metadata": {
  "kernelspec": {
   "display_name": "Python 3",
   "language": "python",
   "name": "python3"
  },
  "language_info": {
   "codemirror_mode": {
    "name": "ipython",
    "version": 3
   },
   "file_extension": ".py",
   "mimetype": "text/x-python",
   "name": "python",
   "nbconvert_exporter": "python",
   "pygments_lexer": "ipython3",
   "version": "3.8.8"
  }
 },
 "nbformat": 4,
 "nbformat_minor": 5
}
