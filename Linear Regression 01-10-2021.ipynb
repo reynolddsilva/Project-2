{
 "cells": [
  {
   "cell_type": "code",
   "execution_count": 37,
   "id": "a7842a8d",
   "metadata": {},
   "outputs": [],
   "source": [
    "%matplotlib inline\n",
    "from matplotlib import pyplot as plt\n",
    "import pandas as pd\n",
    "import numpy as np\n",
    "import statsmodels.api as sm\n",
    "import statsmodels.formula.api as smf\n",
    "from statsmodels.stats.outliers_influence import variance_inflation_factor\n",
    "from sklearn.model_selection import train_test_split\n",
    "from sklearn.linear_model import LinearRegression, Lasso, LassoCV, Ridge, RidgeCV\n",
    "from sklearn.metrics import r2_score\n",
    "from sklearn.model_selection import cross_val_score, cross_val_predict\n",
    "from sklearn.model_selection import KFold\n",
    "from sklearn import metrics\n",
    "from sklearn.preprocessing import StandardScaler, PolynomialFeatures"
   ]
  },
  {
   "cell_type": "code",
   "execution_count": 2,
   "id": "78789233",
   "metadata": {},
   "outputs": [],
   "source": [
    "df=pd.read_csv('final_data.csv')"
   ]
  },
  {
   "cell_type": "code",
   "execution_count": 38,
   "id": "e911d362",
   "metadata": {},
   "outputs": [
    {
     "data": {
      "text/html": [
       "<div>\n",
       "<style scoped>\n",
       "    .dataframe tbody tr th:only-of-type {\n",
       "        vertical-align: middle;\n",
       "    }\n",
       "\n",
       "    .dataframe tbody tr th {\n",
       "        vertical-align: top;\n",
       "    }\n",
       "\n",
       "    .dataframe thead th {\n",
       "        text-align: right;\n",
       "    }\n",
       "</style>\n",
       "<table border=\"1\" class=\"dataframe\">\n",
       "  <thead>\n",
       "    <tr style=\"text-align: right;\">\n",
       "      <th></th>\n",
       "      <th>Title</th>\n",
       "      <th>Dom_Gross_mil</th>\n",
       "      <th>Int_Gross_mil</th>\n",
       "      <th>Worldwide_mil</th>\n",
       "      <th>Opening_mil</th>\n",
       "      <th>Budget_mil</th>\n",
       "      <th>Rel_Date</th>\n",
       "      <th>Runtime</th>\n",
       "      <th>Genre</th>\n",
       "      <th>Rating</th>\n",
       "      <th>Rel_Month</th>\n",
       "      <th>Gross_Domestic_Revenue</th>\n",
       "    </tr>\n",
       "  </thead>\n",
       "  <tbody>\n",
       "    <tr>\n",
       "      <th>0</th>\n",
       "      <td>Star Wars: Episode VII - The Force Awakens (2015)</td>\n",
       "      <td>936.662225</td>\n",
       "      <td>1132.859475</td>\n",
       "      <td>2069.521700</td>\n",
       "      <td>247.966675</td>\n",
       "      <td>245.0</td>\n",
       "      <td>December 16, 2015\\n            (EMEA, APAC)</td>\n",
       "      <td>2 hr 18 min</td>\n",
       "      <td>Action\\n    \\n        Adventure\\n    \\n       ...</td>\n",
       "      <td>PG-13</td>\n",
       "      <td>December</td>\n",
       "      <td>688.695550</td>\n",
       "    </tr>\n",
       "    <tr>\n",
       "      <th>1</th>\n",
       "      <td>Avengers: Endgame (2019)</td>\n",
       "      <td>858.373000</td>\n",
       "      <td>1939.128328</td>\n",
       "      <td>2797.501328</td>\n",
       "      <td>357.115007</td>\n",
       "      <td>356.0</td>\n",
       "      <td>April 24, 2019\\n            (21 markets)</td>\n",
       "      <td>3 hr 1 min</td>\n",
       "      <td>Action\\n    \\n        Adventure\\n    \\n       ...</td>\n",
       "      <td>PG-13</td>\n",
       "      <td>April</td>\n",
       "      <td>501.257993</td>\n",
       "    </tr>\n",
       "    <tr>\n",
       "      <th>2</th>\n",
       "      <td>Avatar (2009)</td>\n",
       "      <td>760.507625</td>\n",
       "      <td>2086.738578</td>\n",
       "      <td>2847.246203</td>\n",
       "      <td>77.025481</td>\n",
       "      <td>237.0</td>\n",
       "      <td>December 16, 2009\\n            (EMEA, LATAM)</td>\n",
       "      <td>2 hr 42 min</td>\n",
       "      <td>Action\\n    \\n        Adventure\\n    \\n       ...</td>\n",
       "      <td>PG-13</td>\n",
       "      <td>December</td>\n",
       "      <td>683.482144</td>\n",
       "    </tr>\n",
       "    <tr>\n",
       "      <th>3</th>\n",
       "      <td>Titanic (1997)</td>\n",
       "      <td>659.363944</td>\n",
       "      <td>1542.283320</td>\n",
       "      <td>2201.647264</td>\n",
       "      <td>28.638131</td>\n",
       "      <td>200.0</td>\n",
       "      <td>December 19, 1997\\n            (Domestic)</td>\n",
       "      <td>3 hr 14 min</td>\n",
       "      <td>Drama\\n    \\n        Romance</td>\n",
       "      <td>PG-13</td>\n",
       "      <td>December</td>\n",
       "      <td>630.725813</td>\n",
       "    </tr>\n",
       "    <tr>\n",
       "      <th>4</th>\n",
       "      <td>Jurassic World (2015)</td>\n",
       "      <td>652.385625</td>\n",
       "      <td>1018.130819</td>\n",
       "      <td>1670.516444</td>\n",
       "      <td>208.806270</td>\n",
       "      <td>150.0</td>\n",
       "      <td>June 10, 2015\\n            (9 markets)</td>\n",
       "      <td>2 hr 4 min</td>\n",
       "      <td>Action\\n    \\n        Adventure\\n    \\n       ...</td>\n",
       "      <td>PG-13</td>\n",
       "      <td>June</td>\n",
       "      <td>443.579355</td>\n",
       "    </tr>\n",
       "  </tbody>\n",
       "</table>\n",
       "</div>"
      ],
      "text/plain": [
       "                                               Title  Dom_Gross_mil  \\\n",
       "0  Star Wars: Episode VII - The Force Awakens (2015)     936.662225   \n",
       "1                           Avengers: Endgame (2019)     858.373000   \n",
       "2                                      Avatar (2009)     760.507625   \n",
       "3                                     Titanic (1997)     659.363944   \n",
       "4                              Jurassic World (2015)     652.385625   \n",
       "\n",
       "   Int_Gross_mil  Worldwide_mil  Opening_mil  Budget_mil  \\\n",
       "0    1132.859475    2069.521700   247.966675       245.0   \n",
       "1    1939.128328    2797.501328   357.115007       356.0   \n",
       "2    2086.738578    2847.246203    77.025481       237.0   \n",
       "3    1542.283320    2201.647264    28.638131       200.0   \n",
       "4    1018.130819    1670.516444   208.806270       150.0   \n",
       "\n",
       "                                       Rel_Date      Runtime  \\\n",
       "0   December 16, 2015\\n            (EMEA, APAC)  2 hr 18 min   \n",
       "1      April 24, 2019\\n            (21 markets)   3 hr 1 min   \n",
       "2  December 16, 2009\\n            (EMEA, LATAM)  2 hr 42 min   \n",
       "3     December 19, 1997\\n            (Domestic)  3 hr 14 min   \n",
       "4        June 10, 2015\\n            (9 markets)   2 hr 4 min   \n",
       "\n",
       "                                               Genre Rating Rel_Month  \\\n",
       "0  Action\\n    \\n        Adventure\\n    \\n       ...  PG-13  December   \n",
       "1  Action\\n    \\n        Adventure\\n    \\n       ...  PG-13     April   \n",
       "2  Action\\n    \\n        Adventure\\n    \\n       ...  PG-13  December   \n",
       "3                       Drama\\n    \\n        Romance  PG-13  December   \n",
       "4  Action\\n    \\n        Adventure\\n    \\n       ...  PG-13      June   \n",
       "\n",
       "   Gross_Domestic_Revenue  \n",
       "0              688.695550  \n",
       "1              501.257993  \n",
       "2              683.482144  \n",
       "3              630.725813  \n",
       "4              443.579355  "
      ]
     },
     "execution_count": 38,
     "metadata": {},
     "output_type": "execute_result"
    }
   ],
   "source": [
    "df.head()\n"
   ]
  },
  {
   "cell_type": "code",
   "execution_count": 39,
   "id": "28723e29",
   "metadata": {},
   "outputs": [
    {
     "data": {
      "text/html": [
       "<table class=\"simpletable\">\n",
       "<caption>OLS Regression Results</caption>\n",
       "<tr>\n",
       "  <th>Dep. Variable:</th>    <td>Gross_Domestic_Revenue</td> <th>  R-squared:         </th> <td>   0.548</td> \n",
       "</tr>\n",
       "<tr>\n",
       "  <th>Model:</th>                      <td>OLS</td>          <th>  Adj. R-squared:    </th> <td>   0.546</td> \n",
       "</tr>\n",
       "<tr>\n",
       "  <th>Method:</th>                <td>Least Squares</td>     <th>  F-statistic:       </th> <td>   324.7</td> \n",
       "</tr>\n",
       "<tr>\n",
       "  <th>Date:</th>                <td>Fri, 01 Oct 2021</td>    <th>  Prob (F-statistic):</th> <td>4.54e-138</td>\n",
       "</tr>\n",
       "<tr>\n",
       "  <th>Time:</th>                    <td>01:15:31</td>        <th>  Log-Likelihood:    </th> <td> -4342.3</td> \n",
       "</tr>\n",
       "<tr>\n",
       "  <th>No. Observations:</th>         <td>   808</td>         <th>  AIC:               </th> <td>   8693.</td> \n",
       "</tr>\n",
       "<tr>\n",
       "  <th>Df Residuals:</th>             <td>   804</td>         <th>  BIC:               </th> <td>   8711.</td> \n",
       "</tr>\n",
       "<tr>\n",
       "  <th>Df Model:</th>                 <td>     3</td>         <th>                     </th>     <td> </td>    \n",
       "</tr>\n",
       "<tr>\n",
       "  <th>Covariance Type:</th>         <td>nonrobust</td>       <th>                     </th>     <td> </td>    \n",
       "</tr>\n",
       "</table>\n",
       "<table class=\"simpletable\">\n",
       "<tr>\n",
       "        <td></td>           <th>coef</th>     <th>std err</th>      <th>t</th>      <th>P>|t|</th>  <th>[0.025</th>    <th>0.975]</th>  \n",
       "</tr>\n",
       "<tr>\n",
       "  <th>Intercept</th>     <td>   72.7307</td> <td>    3.364</td> <td>   21.619</td> <td> 0.000</td> <td>   66.127</td> <td>   79.334</td>\n",
       "</tr>\n",
       "<tr>\n",
       "  <th>Int_Gross_mil</th> <td>    0.2701</td> <td>    0.013</td> <td>   21.151</td> <td> 0.000</td> <td>    0.245</td> <td>    0.295</td>\n",
       "</tr>\n",
       "<tr>\n",
       "  <th>Opening_mil</th>   <td>    0.3662</td> <td>    0.076</td> <td>    4.845</td> <td> 0.000</td> <td>    0.218</td> <td>    0.515</td>\n",
       "</tr>\n",
       "<tr>\n",
       "  <th>Budget_mil</th>    <td>   -0.2953</td> <td>    0.041</td> <td>   -7.137</td> <td> 0.000</td> <td>   -0.376</td> <td>   -0.214</td>\n",
       "</tr>\n",
       "</table>\n",
       "<table class=\"simpletable\">\n",
       "<tr>\n",
       "  <th>Omnibus:</th>       <td>262.006</td> <th>  Durbin-Watson:     </th> <td>   1.462</td> \n",
       "</tr>\n",
       "<tr>\n",
       "  <th>Prob(Omnibus):</th> <td> 0.000</td>  <th>  Jarque-Bera (JB):  </th> <td>1284.654</td> \n",
       "</tr>\n",
       "<tr>\n",
       "  <th>Skew:</th>          <td> 1.403</td>  <th>  Prob(JB):          </th> <td>1.10e-279</td>\n",
       "</tr>\n",
       "<tr>\n",
       "  <th>Kurtosis:</th>      <td> 8.504</td>  <th>  Cond. No.          </th> <td>    607.</td> \n",
       "</tr>\n",
       "</table><br/><br/>Notes:<br/>[1] Standard Errors assume that the covariance matrix of the errors is correctly specified."
      ],
      "text/plain": [
       "<class 'statsmodels.iolib.summary.Summary'>\n",
       "\"\"\"\n",
       "                              OLS Regression Results                              \n",
       "==================================================================================\n",
       "Dep. Variable:     Gross_Domestic_Revenue   R-squared:                       0.548\n",
       "Model:                                OLS   Adj. R-squared:                  0.546\n",
       "Method:                     Least Squares   F-statistic:                     324.7\n",
       "Date:                    Fri, 01 Oct 2021   Prob (F-statistic):          4.54e-138\n",
       "Time:                            01:15:31   Log-Likelihood:                -4342.3\n",
       "No. Observations:                     808   AIC:                             8693.\n",
       "Df Residuals:                         804   BIC:                             8711.\n",
       "Df Model:                               3                                         \n",
       "Covariance Type:                nonrobust                                         \n",
       "=================================================================================\n",
       "                    coef    std err          t      P>|t|      [0.025      0.975]\n",
       "---------------------------------------------------------------------------------\n",
       "Intercept        72.7307      3.364     21.619      0.000      66.127      79.334\n",
       "Int_Gross_mil     0.2701      0.013     21.151      0.000       0.245       0.295\n",
       "Opening_mil       0.3662      0.076      4.845      0.000       0.218       0.515\n",
       "Budget_mil       -0.2953      0.041     -7.137      0.000      -0.376      -0.214\n",
       "==============================================================================\n",
       "Omnibus:                      262.006   Durbin-Watson:                   1.462\n",
       "Prob(Omnibus):                  0.000   Jarque-Bera (JB):             1284.654\n",
       "Skew:                           1.403   Prob(JB):                    1.10e-279\n",
       "Kurtosis:                       8.504   Cond. No.                         607.\n",
       "==============================================================================\n",
       "\n",
       "Notes:\n",
       "[1] Standard Errors assume that the covariance matrix of the errors is correctly specified.\n",
       "\"\"\""
      ]
     },
     "execution_count": 39,
     "metadata": {},
     "output_type": "execute_result"
    }
   ],
   "source": [
    "lml = smf.ols('Gross_Domestic_Revenue ~ Int_Gross_mil + Opening_mil + Budget_mil', data=df)\n",
    "fit = lml.fit()\n",
    "fit.summary()"
   ]
  },
  {
   "cell_type": "code",
   "execution_count": 40,
   "id": "6b2b898d",
   "metadata": {},
   "outputs": [],
   "source": [
    "#set X and y as datasets\n",
    "X = df.loc[:,['Int_Gross_mil','Budget_mil','Opening_mil']]\n",
    "y = df['Gross_Domestic_Revenue']\n",
    "\n",
    "#Split data into two sections: Train+Val, Testing \n",
    "#results in 20 test, 80 training\n",
    "X, X_test, y, y_test = train_test_split(X, y, test_size=.2, random_state=25)"
   ]
  },
  {
   "cell_type": "code",
   "execution_count": 41,
   "id": "52ac9088",
   "metadata": {},
   "outputs": [
    {
     "name": "stdout",
     "output_type": "stream",
     "text": [
      "[0.49726807 0.55792945 0.41000887 0.50227241 0.60395506]\n",
      "0.5142867728635862\n"
     ]
    }
   ],
   "source": [
    "#CROSS VALIDATION LINEAR REGRESSION ON TRAINING DATA\n",
    "#don't need standard scaler here bc regular linear regression\n",
    "\n",
    "kf = KFold(n_splits=5, shuffle=True, random_state = 42)\n",
    "\n",
    "#Create an empty model\n",
    "#regular cross validation \n",
    "lm_cv = LinearRegression()\n",
    "\n",
    "#fit model\n",
    "lm_cv.fit(X, y)\n",
    "\n",
    "#all five values\n",
    "print(cross_val_score(lm_cv, X, y, cv=kf, scoring='r2'))\n",
    "#average of 5\n",
    "print(np.mean(cross_val_score(lm_cv, X, y, cv=kf, scoring='r2')))"
   ]
  },
  {
   "cell_type": "code",
   "execution_count": 42,
   "id": "f99ac36e",
   "metadata": {},
   "outputs": [],
   "source": [
    "std = StandardScaler()\n",
    "std.fit(X.values)\n",
    "\n",
    "X_scaled = std.transform(X.values)\n",
    "X_test_scaled = std.transform(X_test.values)"
   ]
  },
  {
   "cell_type": "code",
   "execution_count": 43,
   "id": "91416176",
   "metadata": {},
   "outputs": [
    {
     "name": "stdout",
     "output_type": "stream",
     "text": [
      "0.1\n"
     ]
    }
   ],
   "source": [
    "rm_cv = RidgeCV(alphas=[0.1, 1.0, 10.0])\n",
    "\n",
    "new_ridge=rm_cv.fit(X_scaled, y)\n",
    "best_alpha = new_ridge.alpha_\n",
    "\n",
    "print(best_alpha)"
   ]
  },
  {
   "cell_type": "code",
   "execution_count": 44,
   "id": "f9b94286",
   "metadata": {},
   "outputs": [
    {
     "name": "stdout",
     "output_type": "stream",
     "text": [
      "[0.4972506  0.55789591 0.41004153 0.50233442 0.6039407 ]\n",
      "0.5142926326858981\n"
     ]
    }
   ],
   "source": [
    "kf = KFold(n_splits=5, shuffle=True, random_state = 42)\n",
    "RidgeCV = Ridge(alpha=0.1)\n",
    "\n",
    "#fit model\n",
    "RidgeCV.fit(X_scaled, y)\n",
    "\n",
    "#results from ridge reg cross val\n",
    "#all five values\n",
    "print(cross_val_score(RidgeCV, X_scaled, y, cv=kf, scoring='r2'))\n",
    "#average of 5\n",
    "print(np.mean(cross_val_score(RidgeCV, X_scaled, y, cv=kf, scoring='r2')))"
   ]
  },
  {
   "cell_type": "code",
   "execution_count": 45,
   "id": "e7065c35",
   "metadata": {},
   "outputs": [
    {
     "name": "stdout",
     "output_type": "stream",
     "text": [
      "0.1\n"
     ]
    }
   ],
   "source": [
    "ls_cv = LassoCV(alphas=[0.1, 1.0, 10.0])\n",
    "\n",
    "new_lasso=ls_cv.fit(X_scaled, y)\n",
    "best_alpha = new_lasso.alpha_\n",
    "\n",
    "print(best_alpha)"
   ]
  },
  {
   "cell_type": "code",
   "execution_count": 46,
   "id": "777dbe8a",
   "metadata": {},
   "outputs": [
    {
     "name": "stdout",
     "output_type": "stream",
     "text": [
      "[0.49752129 0.55712873 0.40970199 0.50307228 0.60410888]\n",
      "0.5143066348933878\n"
     ]
    }
   ],
   "source": [
    "kf = KFold(n_splits=5, shuffle=True, random_state = 42)\n",
    "LassoCV = Lasso(alpha=0.1)\n",
    "\n",
    "#fit model\n",
    "LassoCV.fit(X_scaled, y)\n",
    "\n",
    "#results from ridge reg cross val\n",
    "#all five values\n",
    "print(cross_val_score(LassoCV, X_scaled, y, cv=kf, scoring='r2'))\n",
    "#average of 5\n",
    "print(np.mean(cross_val_score(LassoCV, X_scaled, y, cv=kf, scoring='r2')))"
   ]
  },
  {
   "cell_type": "code",
   "execution_count": 49,
   "id": "dc759445",
   "metadata": {},
   "outputs": [],
   "source": [
    "test_set_pred = LassoCV.predict(X_test_scaled)"
   ]
  },
  {
   "cell_type": "code",
   "execution_count": 50,
   "id": "76b4dee8",
   "metadata": {},
   "outputs": [
    {
     "data": {
      "text/plain": [
       "0.6016127961529755"
      ]
     },
     "execution_count": 50,
     "metadata": {},
     "output_type": "execute_result"
    }
   ],
   "source": [
    "r2_score(y_test, test_set_pred)"
   ]
  },
  {
   "cell_type": "code",
   "execution_count": 51,
   "id": "4179bc54",
   "metadata": {},
   "outputs": [
    {
     "name": "stdout",
     "output_type": "stream",
     "text": [
      "33.599493256346186\n"
     ]
    }
   ],
   "source": [
    "def mae(y_true, y_pred):\n",
    "    return np.mean(np.abs(y_pred - y_true)) \n",
    "\n",
    "y_err=mae(y_test, test_set_pred)\n",
    "print(y_err)"
   ]
  },
  {
   "cell_type": "code",
   "execution_count": 17,
   "id": "f42d75ae",
   "metadata": {},
   "outputs": [
    {
     "data": {
      "image/png": "[encoded data removed]",
      "text/plain": [
       "<Figure size 432x288 with 1 Axes>"
      ]
     },
     "metadata": {
      "needs_background": "light"
     },
     "output_type": "display_data"
    }
   ],
   "source": [
    "plt.scatter(y_test, test_set_pred, alpha=.5)\n",
    "plt.plot(np.linspace(0,600,100), np.linspace(0,600,100))\n",
    "plt.xlabel(\"Actual Revenue (mil)\")\n",
    "plt.ylabel(\"Predicted Revenue (mil)\")\n",
    "plt.title(\"Gross Domestic Revenue for Top Films (USD)\", fontsize=13)\n",
    "\n",
    "plt.savefig('Gross_Rev.png')"
   ]
  },
  {
   "cell_type": "code",
   "execution_count": null,
   "id": "ead028d3",
   "metadata": {},
   "outputs": [],
   "source": []
  }
 ],
 "metadata": {
  "kernelspec": {
   "display_name": "Python 3",
   "language": "python",
   "name": "python3"
  },
  "language_info": {
   "codemirror_mode": {
    "name": "ipython",
    "version": 3
   },
   "file_extension": ".py",
   "mimetype": "text/x-python",
   "name": "python",
   "nbconvert_exporter": "python",
   "pygments_lexer": "ipython3",
   "version": "3.8.8"
  }
 },
 "nbformat": 4,
 "nbformat_minor": 5
}
