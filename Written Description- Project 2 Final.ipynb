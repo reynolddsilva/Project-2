{
 "cells": [
  {
   "cell_type": "markdown",
   "id": "74065c3e",
   "metadata": {},
   "source": [
    "# Written Description"
   ]
  },
  {
   "cell_type": "markdown",
   "id": "e3bbd28d",
   "metadata": {},
   "source": [
    "### Abstract\n",
    "The film industry is one of the riskiest industries to venture into. In this project, my hypothetical client- Bestflix, which is looking to invest in commercial films (Bollywood and Hollywood). Traditional studios like Walt Disney produce mutiple movies on an annual basis and hope to turn in a profit on year-on-year basis. More than 62 percent of all the movies produced by major studios don't break even. My client is asking me to build a model that helps them make a strategic decision, to invest in a profitable venture. \n",
    "\n",
    "\n",
    "\n",
    "### Design\n",
    "The objective of the project is to evaluate the pre-release factors that make films successful (with  revenue) and for that I'll be performing EDA and then evaluating via regression models to find the correlation of ten features on Gross Domestic Revenues. The ten factors are International Gross, Rating, Genre, Worldwide Gross, Domestic Gross, First Weekend Collection, Budget, Release Date, Runtime and Movie Cast of the movies.\n"
   ]
  },
  {
   "cell_type": "markdown",
   "id": "3ac09438",
   "metadata": {},
   "source": [
    "### Tools\n",
    "Python- Numpy and Pandas for data manipulation,\n",
    "Scikit-learn and Statsmodels for data modeling, \n",
    "Matplotlib and Seaborn for plotting the data.\n"
   ]
  },
  {
   "cell_type": "markdown",
   "id": "ee3b800b",
   "metadata": {},
   "source": [
    "### Data\n",
    "I've chosen a dataset of 1000 movies by webscraping the Box Office Mojo website. It contains 15 different categories, some of them are modified to suit the requirements of the model. I'll be using the Linear Regression, Lasso and Ridge regression to calculate the R-squared value and determine the model that best fits the data. "
   ]
  },
  {
   "cell_type": "markdown",
   "id": "66d707c6",
   "metadata": {},
   "source": [
    "### Model\n",
    "My X-axis on the model consist of International Collection, Budget and Opening Weekend Collection while y-axis is Gross Domestic Revenue(Domestic Gross Revenue-Opening Weekend).\n",
    "\n",
    "\n",
    "R-Squared after Cross Validation is as follows:\n",
    "Linear Regression : 0.51\n",
    "Lasso: 0.51\n",
    "Ridge: 0.51\n",
    "\n",
    "I've chosen Lasso as my model due to highest R-Squared and it performs better with less features . On my test data, I've got an R-Squared of 0.61276 and Mean Absolute error of 32.1341. The model has better accuracy with movies,that have a lower box office collection while distorted predictions with high box office collections.\n",
    "\n",
    "\n"
   ]
  },
  {
   "cell_type": "markdown",
   "id": "59c1e28c",
   "metadata": {},
   "source": [
    "### Communication\n",
    "I'll be uploading this project on my website: www.reynolddsilva.com and you reach me at reynoldrdsilva@gmail.com. I usually respond within 24 hours."
   ]
  },
  {
   "cell_type": "code",
   "execution_count": null,
   "id": "f797b763",
   "metadata": {},
   "outputs": [],
   "source": []
  }
 ],
 "metadata": {
  "kernelspec": {
   "display_name": "Python 3",
   "language": "python",
   "name": "python3"
  },
  "language_info": {
   "codemirror_mode": {
    "name": "ipython",
    "version": 3
   },
   "file_extension": ".py",
   "mimetype": "text/x-python",
   "name": "python",
   "nbconvert_exporter": "python",
   "pygments_lexer": "ipython3",
   "version": "3.8.8"
  }
 },
 "nbformat": 4,
 "nbformat_minor": 5
}
