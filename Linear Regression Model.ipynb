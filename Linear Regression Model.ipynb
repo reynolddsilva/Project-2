{
 "cells": [
  {
   "cell_type": "code",
   "execution_count": 17,
   "id": "895b3f00",
   "metadata": {},
   "outputs": [],
   "source": [
    "%matplotlib inline\n",
    "from matplotlib import pyplot as plt\n",
    "import pandas as pd\n",
    "import numpy as np\n",
    "import statsmodels.api as sm\n",
    "import statsmodels.formula.api as smf\n",
    "from statsmodels.stats.outliers_influence import variance_inflation_factor\n",
    "from sklearn.model_selection import train_test_split\n",
    "from sklearn.linear_model import LinearRegression, Lasso, LassoCV, Ridge, RidgeCV\n",
    "from sklearn.metrics import r2_score\n",
    "from sklearn.model_selection import cross_val_score, cross_val_predict\n",
    "from sklearn.model_selection import KFold\n",
    "from sklearn import metrics\n",
    "from sklearn.preprocessing import StandardScaler, PolynomialFeatures"
   ]
  },
  {
   "cell_type": "code",
   "execution_count": 18,
   "id": "8e7cbcbe",
   "metadata": {},
   "outputs": [],
   "source": [
    "# Call in the cleaned data file\n",
    "\n",
    "df=pd.read_csv('project2.csv')"
   ]
  },
  {
   "cell_type": "code",
   "execution_count": 47,
   "id": "158630e9",
   "metadata": {},
   "outputs": [
    {
     "data": {
      "text/html": [
       "<div>\n",
       "<style scoped>\n",
       "    .dataframe tbody tr th:only-of-type {\n",
       "        vertical-align: middle;\n",
       "    }\n",
       "\n",
       "    .dataframe tbody tr th {\n",
       "        vertical-align: top;\n",
       "    }\n",
       "\n",
       "    .dataframe thead th {\n",
       "        text-align: right;\n",
       "    }\n",
       "</style>\n",
       "<table border=\"1\" class=\"dataframe\">\n",
       "  <thead>\n",
       "    <tr style=\"text-align: right;\">\n",
       "      <th></th>\n",
       "      <th>Title</th>\n",
       "      <th>Domestic_Gross</th>\n",
       "      <th>International_Collection</th>\n",
       "      <th>Worldwide_Gross</th>\n",
       "      <th>Opening_Weekend</th>\n",
       "      <th>Budget</th>\n",
       "      <th>Release_Date</th>\n",
       "      <th>Runtime</th>\n",
       "      <th>Genre</th>\n",
       "      <th>Rating</th>\n",
       "      <th>Release_Month</th>\n",
       "      <th>Profit</th>\n",
       "      <th>log_opening_weekend</th>\n",
       "      <th>log_budget</th>\n",
       "      <th>log_international_collection</th>\n",
       "      <th>log_profit</th>\n",
       "    </tr>\n",
       "  </thead>\n",
       "  <tbody>\n",
       "    <tr>\n",
       "      <th>0</th>\n",
       "      <td>Star Wars: Episode VII - The Force Awakens (2015)</td>\n",
       "      <td>0.000937</td>\n",
       "      <td>0.001133</td>\n",
       "      <td>0.002070</td>\n",
       "      <td>0.000248</td>\n",
       "      <td>0.000245</td>\n",
       "      <td>December 16, 2015\\n            (EMEA, APAC)</td>\n",
       "      <td>2 hr 18 min</td>\n",
       "      <td>Action\\n    \\n        Adventure\\n    \\n       ...</td>\n",
       "      <td>PG-13</td>\n",
       "      <td>December</td>\n",
       "      <td>688.695550</td>\n",
       "      <td>-8.302216</td>\n",
       "      <td>-8.314252</td>\n",
       "      <td>-6.783010</td>\n",
       "      <td>6.534799</td>\n",
       "    </tr>\n",
       "    <tr>\n",
       "      <th>1</th>\n",
       "      <td>Avengers: Endgame (2019)</td>\n",
       "      <td>0.000858</td>\n",
       "      <td>0.001939</td>\n",
       "      <td>0.002798</td>\n",
       "      <td>0.000357</td>\n",
       "      <td>0.000356</td>\n",
       "      <td>April 24, 2019\\n            (21 markets)</td>\n",
       "      <td>3 hr 1 min</td>\n",
       "      <td>Action\\n    \\n        Adventure\\n    \\n       ...</td>\n",
       "      <td>PG-13</td>\n",
       "      <td>April</td>\n",
       "      <td>501.257993</td>\n",
       "      <td>-7.937453</td>\n",
       "      <td>-7.940580</td>\n",
       "      <td>-6.245517</td>\n",
       "      <td>6.217121</td>\n",
       "    </tr>\n",
       "    <tr>\n",
       "      <th>2</th>\n",
       "      <td>Avatar (2009)</td>\n",
       "      <td>0.000761</td>\n",
       "      <td>0.002087</td>\n",
       "      <td>0.002847</td>\n",
       "      <td>0.000077</td>\n",
       "      <td>0.000237</td>\n",
       "      <td>December 16, 2009\\n            (LATAM, EMEA)</td>\n",
       "      <td>2 hr 42 min</td>\n",
       "      <td>Action\\n    \\n        Adventure\\n    \\n       ...</td>\n",
       "      <td>PG-13</td>\n",
       "      <td>December</td>\n",
       "      <td>683.482144</td>\n",
       "      <td>-9.471374</td>\n",
       "      <td>-8.347450</td>\n",
       "      <td>-6.172153</td>\n",
       "      <td>6.527201</td>\n",
       "    </tr>\n",
       "    <tr>\n",
       "      <th>3</th>\n",
       "      <td>Titanic (1997)</td>\n",
       "      <td>0.000659</td>\n",
       "      <td>0.001542</td>\n",
       "      <td>0.002202</td>\n",
       "      <td>0.000029</td>\n",
       "      <td>0.000200</td>\n",
       "      <td>December 19, 1997\\n            (Domestic)</td>\n",
       "      <td>3 hr 14 min</td>\n",
       "      <td>Drama\\n    \\n        Romance</td>\n",
       "      <td>PG-13</td>\n",
       "      <td>December</td>\n",
       "      <td>630.725813</td>\n",
       "      <td>-10.460771</td>\n",
       "      <td>-8.517193</td>\n",
       "      <td>-6.474491</td>\n",
       "      <td>6.446871</td>\n",
       "    </tr>\n",
       "    <tr>\n",
       "      <th>4</th>\n",
       "      <td>Jurassic World (2015)</td>\n",
       "      <td>0.000652</td>\n",
       "      <td>0.001018</td>\n",
       "      <td>0.001671</td>\n",
       "      <td>0.000209</td>\n",
       "      <td>0.000150</td>\n",
       "      <td>June 10, 2015\\n            (9 markets)</td>\n",
       "      <td>2 hr 4 min</td>\n",
       "      <td>Action\\n    \\n        Adventure\\n    \\n       ...</td>\n",
       "      <td>PG-13</td>\n",
       "      <td>June</td>\n",
       "      <td>443.579355</td>\n",
       "      <td>-8.474104</td>\n",
       "      <td>-8.804875</td>\n",
       "      <td>-6.889787</td>\n",
       "      <td>6.094877</td>\n",
       "    </tr>\n",
       "    <tr>\n",
       "      <th>...</th>\n",
       "      <td>...</td>\n",
       "      <td>...</td>\n",
       "      <td>...</td>\n",
       "      <td>...</td>\n",
       "      <td>...</td>\n",
       "      <td>...</td>\n",
       "      <td>...</td>\n",
       "      <td>...</td>\n",
       "      <td>...</td>\n",
       "      <td>...</td>\n",
       "      <td>...</td>\n",
       "      <td>...</td>\n",
       "      <td>...</td>\n",
       "      <td>...</td>\n",
       "      <td>...</td>\n",
       "      <td>...</td>\n",
       "    </tr>\n",
       "    <tr>\n",
       "      <th>806</th>\n",
       "      <td>Nacho Libre (2006)</td>\n",
       "      <td>0.000080</td>\n",
       "      <td>0.000019</td>\n",
       "      <td>0.000099</td>\n",
       "      <td>0.000028</td>\n",
       "      <td>0.000035</td>\n",
       "      <td>June 16, 2006\\n            (Domestic)</td>\n",
       "      <td>1 hr 32 min</td>\n",
       "      <td>Comedy\\n    \\n        Family\\n    \\n        Sport</td>\n",
       "      <td>PG</td>\n",
       "      <td>June</td>\n",
       "      <td>51.888394</td>\n",
       "      <td>-10.472310</td>\n",
       "      <td>-10.260162</td>\n",
       "      <td>-10.868052</td>\n",
       "      <td>3.949095</td>\n",
       "    </tr>\n",
       "    <tr>\n",
       "      <th>807</th>\n",
       "      <td>Jumper (2008)</td>\n",
       "      <td>0.000080</td>\n",
       "      <td>0.000145</td>\n",
       "      <td>0.000225</td>\n",
       "      <td>0.000027</td>\n",
       "      <td>0.000085</td>\n",
       "      <td>February 13, 2008\\n            (6 markets)</td>\n",
       "      <td>1 hr 28 min</td>\n",
       "      <td>Action\\n    \\n        Adventure\\n    \\n       ...</td>\n",
       "      <td>PG-13</td>\n",
       "      <td>February</td>\n",
       "      <td>52.817320</td>\n",
       "      <td>-10.506618</td>\n",
       "      <td>-9.372859</td>\n",
       "      <td>-8.839053</td>\n",
       "      <td>3.966839</td>\n",
       "    </tr>\n",
       "    <tr>\n",
       "      <th>808</th>\n",
       "      <td>Goosebumps (2015)</td>\n",
       "      <td>0.000080</td>\n",
       "      <td>0.000078</td>\n",
       "      <td>0.000158</td>\n",
       "      <td>0.000024</td>\n",
       "      <td>0.000058</td>\n",
       "      <td>October 14, 2015\\n            (Malaysia)</td>\n",
       "      <td>1 hr 43 min</td>\n",
       "      <td>Adventure\\n    \\n        Comedy\\n    \\n       ...</td>\n",
       "      <td>PG</td>\n",
       "      <td>October</td>\n",
       "      <td>56.461823</td>\n",
       "      <td>-10.653478</td>\n",
       "      <td>-9.755068</td>\n",
       "      <td>-9.456483</td>\n",
       "      <td>4.033565</td>\n",
       "    </tr>\n",
       "    <tr>\n",
       "      <th>809</th>\n",
       "      <td>Jack Reacher (2012)</td>\n",
       "      <td>0.000080</td>\n",
       "      <td>0.000138</td>\n",
       "      <td>0.000218</td>\n",
       "      <td>0.000015</td>\n",
       "      <td>0.000060</td>\n",
       "      <td>December 20, 2012\\n            (EMEA, APAC)</td>\n",
       "      <td>2 hr 10 min</td>\n",
       "      <td>Action\\n    \\n        Thriller</td>\n",
       "      <td>PG-13</td>\n",
       "      <td>December</td>\n",
       "      <td>64.860580</td>\n",
       "      <td>-11.093547</td>\n",
       "      <td>-9.721166</td>\n",
       "      <td>-8.886303</td>\n",
       "      <td>4.172240</td>\n",
       "    </tr>\n",
       "    <tr>\n",
       "      <th>810</th>\n",
       "      <td>Cloverfield (2008)</td>\n",
       "      <td>0.000080</td>\n",
       "      <td>0.000092</td>\n",
       "      <td>0.000172</td>\n",
       "      <td>0.000040</td>\n",
       "      <td>0.000025</td>\n",
       "      <td>January 17, 2008\\n            (APAC)</td>\n",
       "      <td>1 hr 25 min</td>\n",
       "      <td>Action\\n    \\n        Horror\\n    \\n        Sc...</td>\n",
       "      <td>PG-13</td>\n",
       "      <td>January</td>\n",
       "      <td>39.990204</td>\n",
       "      <td>-10.125176</td>\n",
       "      <td>-10.596635</td>\n",
       "      <td>-9.289971</td>\n",
       "      <td>3.688635</td>\n",
       "    </tr>\n",
       "  </tbody>\n",
       "</table>\n",
       "<p>811 rows × 16 columns</p>\n",
       "</div>"
      ],
      "text/plain": [
       "                                                 Title  Domestic_Gross  \\\n",
       "0    Star Wars: Episode VII - The Force Awakens (2015)        0.000937   \n",
       "1                             Avengers: Endgame (2019)        0.000858   \n",
       "2                                        Avatar (2009)        0.000761   \n",
       "3                                       Titanic (1997)        0.000659   \n",
       "4                                Jurassic World (2015)        0.000652   \n",
       "..                                                 ...             ...   \n",
       "806                                 Nacho Libre (2006)        0.000080   \n",
       "807                                      Jumper (2008)        0.000080   \n",
       "808                                  Goosebumps (2015)        0.000080   \n",
       "809                                Jack Reacher (2012)        0.000080   \n",
       "810                                 Cloverfield (2008)        0.000080   \n",
       "\n",
       "     International_Collection  Worldwide_Gross  Opening_Weekend    Budget  \\\n",
       "0                    0.001133         0.002070         0.000248  0.000245   \n",
       "1                    0.001939         0.002798         0.000357  0.000356   \n",
       "2                    0.002087         0.002847         0.000077  0.000237   \n",
       "3                    0.001542         0.002202         0.000029  0.000200   \n",
       "4                    0.001018         0.001671         0.000209  0.000150   \n",
       "..                        ...              ...              ...       ...   \n",
       "806                  0.000019         0.000099         0.000028  0.000035   \n",
       "807                  0.000145         0.000225         0.000027  0.000085   \n",
       "808                  0.000078         0.000158         0.000024  0.000058   \n",
       "809                  0.000138         0.000218         0.000015  0.000060   \n",
       "810                  0.000092         0.000172         0.000040  0.000025   \n",
       "\n",
       "                                     Release_Date      Runtime  \\\n",
       "0     December 16, 2015\\n            (EMEA, APAC)  2 hr 18 min   \n",
       "1        April 24, 2019\\n            (21 markets)   3 hr 1 min   \n",
       "2    December 16, 2009\\n            (LATAM, EMEA)  2 hr 42 min   \n",
       "3       December 19, 1997\\n            (Domestic)  3 hr 14 min   \n",
       "4          June 10, 2015\\n            (9 markets)   2 hr 4 min   \n",
       "..                                            ...          ...   \n",
       "806         June 16, 2006\\n            (Domestic)  1 hr 32 min   \n",
       "807    February 13, 2008\\n            (6 markets)  1 hr 28 min   \n",
       "808      October 14, 2015\\n            (Malaysia)  1 hr 43 min   \n",
       "809   December 20, 2012\\n            (EMEA, APAC)  2 hr 10 min   \n",
       "810          January 17, 2008\\n            (APAC)  1 hr 25 min   \n",
       "\n",
       "                                                 Genre Rating Release_Month  \\\n",
       "0    Action\\n    \\n        Adventure\\n    \\n       ...  PG-13      December   \n",
       "1    Action\\n    \\n        Adventure\\n    \\n       ...  PG-13         April   \n",
       "2    Action\\n    \\n        Adventure\\n    \\n       ...  PG-13      December   \n",
       "3                         Drama\\n    \\n        Romance  PG-13      December   \n",
       "4    Action\\n    \\n        Adventure\\n    \\n       ...  PG-13          June   \n",
       "..                                                 ...    ...           ...   \n",
       "806  Comedy\\n    \\n        Family\\n    \\n        Sport     PG          June   \n",
       "807  Action\\n    \\n        Adventure\\n    \\n       ...  PG-13      February   \n",
       "808  Adventure\\n    \\n        Comedy\\n    \\n       ...     PG       October   \n",
       "809                     Action\\n    \\n        Thriller  PG-13      December   \n",
       "810  Action\\n    \\n        Horror\\n    \\n        Sc...  PG-13       January   \n",
       "\n",
       "         Profit  log_opening_weekend  log_budget  \\\n",
       "0    688.695550            -8.302216   -8.314252   \n",
       "1    501.257993            -7.937453   -7.940580   \n",
       "2    683.482144            -9.471374   -8.347450   \n",
       "3    630.725813           -10.460771   -8.517193   \n",
       "4    443.579355            -8.474104   -8.804875   \n",
       "..          ...                  ...         ...   \n",
       "806   51.888394           -10.472310  -10.260162   \n",
       "807   52.817320           -10.506618   -9.372859   \n",
       "808   56.461823           -10.653478   -9.755068   \n",
       "809   64.860580           -11.093547   -9.721166   \n",
       "810   39.990204           -10.125176  -10.596635   \n",
       "\n",
       "     log_international_collection  log_profit  \n",
       "0                       -6.783010    6.534799  \n",
       "1                       -6.245517    6.217121  \n",
       "2                       -6.172153    6.527201  \n",
       "3                       -6.474491    6.446871  \n",
       "4                       -6.889787    6.094877  \n",
       "..                            ...         ...  \n",
       "806                    -10.868052    3.949095  \n",
       "807                     -8.839053    3.966839  \n",
       "808                     -9.456483    4.033565  \n",
       "809                     -8.886303    4.172240  \n",
       "810                     -9.289971    3.688635  \n",
       "\n",
       "[811 rows x 16 columns]"
      ]
     },
     "execution_count": 47,
     "metadata": {},
     "output_type": "execute_result"
    }
   ],
   "source": [
    "df\n",
    "#Gross Revenue(Profit) = Domestic_Gross-Opening Weekend\n"
   ]
  },
  {
   "cell_type": "code",
   "execution_count": 46,
   "id": "cbd2ee47",
   "metadata": {},
   "outputs": [
    {
     "data": {
      "text/html": [
       "<table class=\"simpletable\">\n",
       "<caption>OLS Regression Results</caption>\n",
       "<tr>\n",
       "  <th>Dep. Variable:</th>         <td>Profit</td>      <th>  R-squared:         </th> <td>   0.549</td> \n",
       "</tr>\n",
       "<tr>\n",
       "  <th>Model:</th>                   <td>OLS</td>       <th>  Adj. R-squared:    </th> <td>   0.547</td> \n",
       "</tr>\n",
       "<tr>\n",
       "  <th>Method:</th>             <td>Least Squares</td>  <th>  F-statistic:       </th> <td>   327.0</td> \n",
       "</tr>\n",
       "<tr>\n",
       "  <th>Date:</th>             <td>Thu, 05 Aug 2021</td> <th>  Prob (F-statistic):</th> <td>6.44e-139</td>\n",
       "</tr>\n",
       "<tr>\n",
       "  <th>Time:</th>                 <td>23:31:00</td>     <th>  Log-Likelihood:    </th> <td> -4357.4</td> \n",
       "</tr>\n",
       "<tr>\n",
       "  <th>No. Observations:</th>      <td>   811</td>      <th>  AIC:               </th> <td>   8723.</td> \n",
       "</tr>\n",
       "<tr>\n",
       "  <th>Df Residuals:</th>          <td>   807</td>      <th>  BIC:               </th> <td>   8742.</td> \n",
       "</tr>\n",
       "<tr>\n",
       "  <th>Df Model:</th>              <td>     3</td>      <th>                     </th>     <td> </td>    \n",
       "</tr>\n",
       "<tr>\n",
       "  <th>Covariance Type:</th>      <td>nonrobust</td>    <th>                     </th>     <td> </td>    \n",
       "</tr>\n",
       "</table>\n",
       "<table class=\"simpletable\">\n",
       "<tr>\n",
       "              <td></td>                <th>coef</th>     <th>std err</th>      <th>t</th>      <th>P>|t|</th>  <th>[0.025</th>    <th>0.975]</th>  \n",
       "</tr>\n",
       "<tr>\n",
       "  <th>Intercept</th>                <td>   72.3806</td> <td>    3.352</td> <td>   21.593</td> <td> 0.000</td> <td>   65.801</td> <td>   78.960</td>\n",
       "</tr>\n",
       "<tr>\n",
       "  <th>International_Collection</th> <td> 2.706e+05</td> <td> 1.27e+04</td> <td>   21.231</td> <td> 0.000</td> <td> 2.46e+05</td> <td> 2.96e+05</td>\n",
       "</tr>\n",
       "<tr>\n",
       "  <th>Opening_Weekend</th>          <td>  3.64e+05</td> <td> 7.54e+04</td> <td>    4.825</td> <td> 0.000</td> <td> 2.16e+05</td> <td> 5.12e+05</td>\n",
       "</tr>\n",
       "<tr>\n",
       "  <th>Budget</th>                   <td>-2.935e+05</td> <td> 4.13e+04</td> <td>   -7.108</td> <td> 0.000</td> <td>-3.75e+05</td> <td>-2.12e+05</td>\n",
       "</tr>\n",
       "</table>\n",
       "<table class=\"simpletable\">\n",
       "<tr>\n",
       "  <th>Omnibus:</th>       <td>262.194</td> <th>  Durbin-Watson:     </th> <td>   1.461</td> \n",
       "</tr>\n",
       "<tr>\n",
       "  <th>Prob(Omnibus):</th> <td> 0.000</td>  <th>  Jarque-Bera (JB):  </th> <td>1287.258</td> \n",
       "</tr>\n",
       "<tr>\n",
       "  <th>Skew:</th>          <td> 1.398</td>  <th>  Prob(JB):          </th> <td>2.99e-280</td>\n",
       "</tr>\n",
       "<tr>\n",
       "  <th>Kurtosis:</th>      <td> 8.503</td>  <th>  Cond. No.          </th> <td>4.21e+04</td> \n",
       "</tr>\n",
       "</table><br/><br/>Notes:<br/>[1] Standard Errors assume that the covariance matrix of the errors is correctly specified.<br/>[2] The condition number is large, 4.21e+04. This might indicate that there are<br/>strong multicollinearity or other numerical problems."
      ],
      "text/plain": [
       "<class 'statsmodels.iolib.summary.Summary'>\n",
       "\"\"\"\n",
       "                            OLS Regression Results                            \n",
       "==============================================================================\n",
       "Dep. Variable:                 Profit   R-squared:                       0.549\n",
       "Model:                            OLS   Adj. R-squared:                  0.547\n",
       "Method:                 Least Squares   F-statistic:                     327.0\n",
       "Date:                Thu, 05 Aug 2021   Prob (F-statistic):          6.44e-139\n",
       "Time:                        23:31:00   Log-Likelihood:                -4357.4\n",
       "No. Observations:                 811   AIC:                             8723.\n",
       "Df Residuals:                     807   BIC:                             8742.\n",
       "Df Model:                           3                                         \n",
       "Covariance Type:            nonrobust                                         \n",
       "============================================================================================\n",
       "                               coef    std err          t      P>|t|      [0.025      0.975]\n",
       "--------------------------------------------------------------------------------------------\n",
       "Intercept                   72.3806      3.352     21.593      0.000      65.801      78.960\n",
       "International_Collection  2.706e+05   1.27e+04     21.231      0.000    2.46e+05    2.96e+05\n",
       "Opening_Weekend            3.64e+05   7.54e+04      4.825      0.000    2.16e+05    5.12e+05\n",
       "Budget                   -2.935e+05   4.13e+04     -7.108      0.000   -3.75e+05   -2.12e+05\n",
       "==============================================================================\n",
       "Omnibus:                      262.194   Durbin-Watson:                   1.461\n",
       "Prob(Omnibus):                  0.000   Jarque-Bera (JB):             1287.258\n",
       "Skew:                           1.398   Prob(JB):                    2.99e-280\n",
       "Kurtosis:                       8.503   Cond. No.                     4.21e+04\n",
       "==============================================================================\n",
       "\n",
       "Notes:\n",
       "[1] Standard Errors assume that the covariance matrix of the errors is correctly specified.\n",
       "[2] The condition number is large, 4.21e+04. This might indicate that there are\n",
       "strong multicollinearity or other numerical problems.\n",
       "\"\"\""
      ]
     },
     "execution_count": 46,
     "metadata": {},
     "output_type": "execute_result"
    }
   ],
   "source": [
    "#STATSMODELS ANALYSIS-\n",
    "lr = smf.ols('Profit ~ International_Collection + Opening_Weekend + Budget', data=df)\n",
    "fit = lr.fit()\n",
    "fit.summary()"
   ]
  },
  {
   "cell_type": "code",
   "execution_count": 20,
   "id": "644004a2",
   "metadata": {},
   "outputs": [],
   "source": [
    "#TRAIN-VALIDATION SETS/TEST split in the ratio of 80/20\n",
    "#set X and y as the two datasets\n",
    "X = df.loc[:,['International_Collection','Budget','Opening_Weekend']]\n",
    "y = df['Profit']\n",
    "X, X_test, y, y_test = train_test_split(X, y, test_size=.2, random_state=25)"
   ]
  },
  {
   "cell_type": "code",
   "execution_count": 21,
   "id": "8011919d",
   "metadata": {},
   "outputs": [
    {
     "name": "stdout",
     "output_type": "stream",
     "text": [
      "[0.34897432 0.31097538 0.64277112 0.47823178 0.61009786]\n",
      "0.47821009167419826\n"
     ]
    }
   ],
   "source": [
    "#CROSS VALIDATION LINEAR REGRESSION ON TRAINING DATA\n",
    "\n",
    "kf = KFold(n_splits=5, shuffle=True, random_state = 42)\n",
    "lr1_cv = LinearRegression()\n",
    "lr1_cv.fit(X, y)\n",
    "print(cross_val_score(lr1_cv, X, y, cv=kf, scoring='r2'))\n",
    "print(np.mean(cross_val_score(lr1_cv, X, y, cv=kf, scoring='r2')))"
   ]
  },
  {
   "cell_type": "code",
   "execution_count": 14,
   "id": "f9ec76f1",
   "metadata": {},
   "outputs": [],
   "source": [
    "#Standardization\n",
    "std = StandardScaler()\n",
    "std.fit(X.values)\n",
    "X_scaled = std.transform(X.values)\n",
    "X_test_scaled = std.transform(X_test.values)"
   ]
  },
  {
   "cell_type": "code",
   "execution_count": 22,
   "id": "35095988",
   "metadata": {},
   "outputs": [
    {
     "name": "stdout",
     "output_type": "stream",
     "text": [
      "0.1\n"
     ]
    }
   ],
   "source": [
    "#Determining the Alpha for Ridge\n",
    "ridge_cv = RidgeCV(alphas=[0.1, 1.0, 10.0])\n",
    "\n",
    "new_ridge=rm_cv.fit(X_scaled, y)\n",
    "alpha1 = new_ridge.alpha_\n",
    "\n",
    "print(alpha1)"
   ]
  },
  {
   "cell_type": "code",
   "execution_count": 23,
   "id": "453dcc5f",
   "metadata": {},
   "outputs": [
    {
     "name": "stdout",
     "output_type": "stream",
     "text": [
      "[0.34907096 0.31106945 0.64270682 0.47821008 0.61004835]\n",
      "0.4782211322443118\n"
     ]
    }
   ],
   "source": [
    "#Ridge Regression\n",
    "kf = KFold(n_splits=5, shuffle=True, random_state = 42)\n",
    "RidgeCV = Ridge(alpha=0.1)\n",
    "RidgeCV.fit(X_scaled, y)\n",
    "print(cross_val_score(RidgeCV, X_scaled, y, cv=kf, scoring='r2'))\n",
    "print(np.mean(cross_val_score(RidgeCV, X_scaled, y, cv=kf, scoring='r2')))"
   ]
  },
  {
   "cell_type": "code",
   "execution_count": 25,
   "id": "01c2cbd5",
   "metadata": {},
   "outputs": [
    {
     "name": "stdout",
     "output_type": "stream",
     "text": [
      "0.1\n"
     ]
    }
   ],
   "source": [
    "#Determining the Alpha for Ridge\n",
    "lasso_cv = LassoCV(alphas=[0.1, 1.0, 10.0])\n",
    "new_lasso=lasso_cv.fit(X_scaled, y)\n",
    "alpha2 = new_lasso.alpha_\n",
    "print(alpha2)"
   ]
  },
  {
   "cell_type": "code",
   "execution_count": 26,
   "id": "42aaef93",
   "metadata": {},
   "outputs": [
    {
     "name": "stdout",
     "output_type": "stream",
     "text": [
      "[0.35069326 0.3122824  0.64232248 0.47772106 0.60877504]\n",
      "0.4783588482798118\n"
     ]
    }
   ],
   "source": [
    "#Lasso CV Regresion \n",
    "kf = KFold(n_splits=5, shuffle=True, random_state = 42)\n",
    "LassoCV = Lasso(alpha=0.1)\n",
    "LassoCV.fit(X_scaled, y)\n",
    "print(cross_val_score(LassoCV, X_scaled, y, cv=kf, scoring='r2'))\n",
    "print(np.mean(cross_val_score(LassoCV, X_scaled, y, cv=kf, scoring='r2')))"
   ]
  },
  {
   "cell_type": "code",
   "execution_count": 34,
   "id": "aa33c968",
   "metadata": {},
   "outputs": [],
   "source": [
    "#LOG TRANSFORMED VALUES\n",
    "X_log = df.loc[:,['log_international_collection','log_budget','log_opening_weekend']]\n",
    "y_log = df['log_profit']\n",
    "X_log, X_log_test, y_log, y_log_test = train_test_split(X_log, y_log, test_size=.2, random_state=42)"
   ]
  },
  {
   "cell_type": "code",
   "execution_count": 35,
   "id": "5e6b379b",
   "metadata": {},
   "outputs": [
    {
     "name": "stdout",
     "output_type": "stream",
     "text": [
      "[ 0.25390858  0.13193899  0.26528165  0.29367254 -0.13651537]\n",
      "0.16165727672571714\n"
     ]
    }
   ],
   "source": [
    "#LINEAR REGRESSION ON TRAINING DATA\n",
    "kf = KFold(n_splits=5, shuffle=True, random_state = 42)\n",
    "lm_cv_log = LinearRegression()\n",
    "lm_cv_log.fit(X_log, y_log)\n",
    "print(cross_val_score(lm_cv_log, X_log, y_log, cv=kf, scoring='r2'))\n",
    "print(np.mean(cross_val_score(lm_cv_log, X_log, y_log, cv=kf, scoring='r2')))"
   ]
  },
  {
   "cell_type": "code",
   "execution_count": 36,
   "id": "4268cdeb",
   "metadata": {},
   "outputs": [],
   "source": [
    "#Stardardization\n",
    "std = StandardScaler()\n",
    "std.fit(X.values)\n",
    "X_log_scaled = std.transform(X_log.values)\n",
    "X_log_test_scaled = std.transform(X_log_test.values)"
   ]
  },
  {
   "cell_type": "code",
   "execution_count": 33,
   "id": "240f4672",
   "metadata": {},
   "outputs": [
    {
     "name": "stdout",
     "output_type": "stream",
     "text": [
      "[ 0.25390858  0.13193899  0.26528165  0.29367254 -0.13651537]\n",
      "0.16165727672689742\n"
     ]
    }
   ],
   "source": [
    "#Ridge CV Regression\n",
    "kf = KFold(n_splits=5, shuffle=True, random_state = 42)\n",
    "RidgeCV_log = Ridge(alpha=0.1)\n",
    "RidgeCV_log.fit(X_log_scaled, y_log)\n",
    "print(cross_val_score(RidgeCV_log, X_log_scaled, y_log, cv=kf, scoring='r2'))\n",
    "print(np.mean(cross_val_score(RidgeCV_log, X_log_scaled, y_log, cv=kf, scoring='r2')))"
   ]
  },
  {
   "cell_type": "code",
   "execution_count": 38,
   "id": "d9781f24",
   "metadata": {},
   "outputs": [
    {
     "name": "stdout",
     "output_type": "stream",
     "text": [
      "[ 0.25389954  0.13195011  0.26527239  0.29366011 -0.13642721]\n",
      "0.16167098803475716\n"
     ]
    }
   ],
   "source": [
    "#Lasso CV Regresion \n",
    "kf = KFold(n_splits=5, shuffle=True, random_state = 42)\n",
    "LassoCV_log = Lasso(alpha=0.1)\n",
    "LassoCV_log.fit(X_log_scaled, y_log)\n",
    "print(cross_val_score(LassoCV_log, X_log_scaled, y_log, cv=kf, scoring='r2'))\n",
    "print(np.mean(cross_val_score(LassoCV_log, X_log_scaled, y_log, cv=kf, scoring='r2')))"
   ]
  },
  {
   "cell_type": "code",
   "execution_count": 41,
   "id": "3f08289e",
   "metadata": {},
   "outputs": [],
   "source": [
    "#from these results, Lasso has the best R-Squared compared to  Linear Regression and Ridge, \n",
    "#so I'll be choosing Lasso to conduct my tests\n",
    "\n",
    "test_prediction = LassoCV.predict(X_test_scaled)"
   ]
  },
  {
   "cell_type": "code",
   "execution_count": 42,
   "id": "b6cad23c",
   "metadata": {},
   "outputs": [
    {
     "data": {
      "text/plain": [
       "0.6127670069880529"
      ]
     },
     "execution_count": 42,
     "metadata": {},
     "output_type": "execute_result"
    }
   ],
   "source": [
    "#Here I'm determining the R-Squared Value on the test data\n",
    "r2_score(y_test, test_prediction)"
   ]
  },
  {
   "cell_type": "code",
   "execution_count": 44,
   "id": "bf30caab",
   "metadata": {},
   "outputs": [
    {
     "name": "stdout",
     "output_type": "stream",
     "text": [
      "32.1341488953974\n"
     ]
    }
   ],
   "source": [
    "#Here I'm defining the Mean Absolute Error:\n",
    "def mae(y_true, y_pred):\n",
    "    return np.mean(np.abs(y_pred - y_true)) \n",
    "\n",
    "y_err=mae(y_test, test_set_pred)\n",
    "print(y_err)"
   ]
  },
  {
   "cell_type": "code",
   "execution_count": 45,
   "id": "5e4b543f",
   "metadata": {},
   "outputs": [
    {
     "data": {
      "text/plain": [
       "Text(0.5, 1.0, 'Gross Domestic Revenue')"
      ]
     },
     "execution_count": 45,
     "metadata": {},
     "output_type": "execute_result"
    },
    {
     "data": {
      "image/png": "[encoded data removed]",
      "text/plain": [
       "<Figure size 432x288 with 1 Axes>"
      ]
     },
     "metadata": {
      "needs_background": "light"
     },
     "output_type": "display_data"
    }
   ],
   "source": [
    "plt.scatter(y_test, test_set_pred, alpha=.7)\n",
    "plt.plot(np.linspace(0,700,100), np.linspace(0,700,100))\n",
    "plt.xlabel(\"Actual\")\n",
    "plt.ylabel(\"Forecasted\")\n",
    "plt.title(\"Gross Domestic Revenue\", fontsize=15)\n",
    "\n"
   ]
  },
  {
   "cell_type": "code",
   "execution_count": null,
   "id": "c62ebfc1",
   "metadata": {},
   "outputs": [],
   "source": []
  }
 ],
 "metadata": {
  "kernelspec": {
   "display_name": "Python 3",
   "language": "python",
   "name": "python3"
  },
  "language_info": {
   "codemirror_mode": {
    "name": "ipython",
    "version": 3
   },
   "file_extension": ".py",
   "mimetype": "text/x-python",
   "name": "python",
   "nbconvert_exporter": "python",
   "pygments_lexer": "ipython3",
   "version": "3.8.8"
  }
 },
 "nbformat": 4,
 "nbformat_minor": 5
}
